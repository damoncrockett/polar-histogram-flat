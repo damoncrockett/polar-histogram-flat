{
 "cells": [
  {
   "cell_type": "code",
   "execution_count": 1,
   "metadata": {
    "collapsed": true
   },
   "outputs": [],
   "source": [
    "import pandas as pd\n",
    "import numpy as np\n",
    "from skimage.io import imread\n",
    "from skimage import color\n",
    "from sklearn.neighbors import KernelDensity\n",
    "import math\n",
    "from PIL import Image\n",
    "%matplotlib inline"
   ]
  },
  {
   "cell_type": "code",
   "execution_count": 15,
   "metadata": {
    "collapsed": false
   },
   "outputs": [],
   "source": [
    "BASE = \"/Users/damoncrockett/Dropbox/_unshared/work/projects-papers/twitter-atlas/\"\n",
    "DIR = BASE + \"polar-histogram/color/\"\n",
    "\n",
    "df = pd.read_csv(DIR+\"phew_hsv_crop_no-bw.csv\")\n",
    "\n",
    "#df = df[df.width>=16]\n",
    "df = df[df.hue>0]\n",
    "df = df[df.sat>0.66]\n",
    "df = df[df.val>0.66]"
   ]
  },
  {
   "cell_type": "code",
   "execution_count": 206,
   "metadata": {
    "collapsed": false
   },
   "outputs": [],
   "source": [
    "r = int(math.ceil(np.sqrt(len(df)/np.pi)))"
   ]
  },
  {
   "cell_type": "code",
   "execution_count": 207,
   "metadata": {
    "collapsed": false
   },
   "outputs": [
    {
     "name": "stdout",
     "output_type": "stream",
     "text": [
      "271\n"
     ]
    }
   ],
   "source": [
    "phibins = int(math.ceil( len(df) / r ))\n",
    "print phibins"
   ]
  },
  {
   "cell_type": "code",
   "execution_count": 208,
   "metadata": {
    "collapsed": true
   },
   "outputs": [],
   "source": [
    "SMOOTHING_FACTOR = 2"
   ]
  },
  {
   "cell_type": "code",
   "execution_count": 209,
   "metadata": {
    "collapsed": true
   },
   "outputs": [],
   "source": [
    "def huepeak(local_path):\n",
    "    img = color.rgb2hsv(imread(local_path))\n",
    "    img = img[:,:,0]\n",
    "    img_flat = img.flatten()\n",
    "    \n",
    "    n = len(img_flat)\n",
    "    thetahat = np.std(img_flat)\n",
    "    h = 1.06 * thetahat * n**(-1/float(5)) # float() or else python uses int division\n",
    "    \n",
    "    X = img_flat[:, np.newaxis]\n",
    "    X_plot = np.linspace(0,1,phibins * SMOOTHING_FACTOR)[:, np.newaxis]\n",
    "            \n",
    "    kde = KernelDensity(kernel='gaussian', bandwidth=h).fit(X)\n",
    "    log_dens = kde.score_samples(X_plot)\n",
    "    return np.argmax(log_dens)"
   ]
  },
  {
   "cell_type": "code",
   "execution_count": 210,
   "metadata": {
    "collapsed": false
   },
   "outputs": [],
   "source": [
    "df['huepeak'] = df.local_path.apply(huepeak)"
   ]
  },
  {
   "cell_type": "markdown",
   "metadata": {},
   "source": [
    "### Plot"
   ]
  },
  {
   "cell_type": "code",
   "execution_count": 211,
   "metadata": {
    "collapsed": true
   },
   "outputs": [],
   "source": [
    "thumb_side = 16\n",
    "sort_vars = ['huepeak']"
   ]
  },
  {
   "cell_type": "code",
   "execution_count": 212,
   "metadata": {
    "collapsed": true
   },
   "outputs": [],
   "source": [
    "df.sort_values(by=sort_vars,inplace=True)"
   ]
  },
  {
   "cell_type": "code",
   "execution_count": 213,
   "metadata": {
    "collapsed": true
   },
   "outputs": [],
   "source": [
    "binlabels = np.repeat(range(phibins),r)"
   ]
  },
  {
   "cell_type": "code",
   "execution_count": 214,
   "metadata": {
    "collapsed": true
   },
   "outputs": [],
   "source": [
    "df = df.iloc[:len(binlabels),:]"
   ]
  },
  {
   "cell_type": "code",
   "execution_count": 215,
   "metadata": {
    "collapsed": false
   },
   "outputs": [],
   "source": [
    "df['xbin'] = np.repeat(range(phibins),r)"
   ]
  },
  {
   "cell_type": "code",
   "execution_count": 216,
   "metadata": {
    "collapsed": false
   },
   "outputs": [],
   "source": [
    "px_w = (r * 2 * thumb_side) + thumb_side\n",
    "px_h = px_w"
   ]
  },
  {
   "cell_type": "code",
   "execution_count": 217,
   "metadata": {
    "collapsed": false
   },
   "outputs": [
    {
     "name": "stdout",
     "output_type": "stream",
     "text": [
      "2800 2800\n"
     ]
    }
   ],
   "source": [
    "print px_w, px_h"
   ]
  },
  {
   "cell_type": "code",
   "execution_count": 218,
   "metadata": {
    "collapsed": true
   },
   "outputs": [],
   "source": [
    "canvas = Image.new('RGB',(px_w,px_h),'hsl(180,0%,20%)')"
   ]
  },
  {
   "cell_type": "code",
   "execution_count": 219,
   "metadata": {
    "collapsed": true
   },
   "outputs": [],
   "source": [
    "def pol2cart(rho, phi):\n",
    "    x = rho * np.cos(phi)\n",
    "    y = rho * np.sin(phi)\n",
    "    return(x, y)"
   ]
  },
  {
   "cell_type": "code",
   "execution_count": 220,
   "metadata": {
    "collapsed": true
   },
   "outputs": [],
   "source": [
    "def bin2phi(binn):\n",
    "    incr = float(360)/phibins\n",
    "    return np.radians(incr*binn)"
   ]
  },
  {
   "cell_type": "code",
   "execution_count": 221,
   "metadata": {
    "collapsed": true
   },
   "outputs": [],
   "source": [
    "def bin2phideg(binn):\n",
    "    incr = float(360)/phibins\n",
    "    return incr*binn"
   ]
  },
  {
   "cell_type": "code",
   "execution_count": 222,
   "metadata": {
    "collapsed": true
   },
   "outputs": [],
   "source": [
    "bins = list(set(list(df.xbin)))"
   ]
  },
  {
   "cell_type": "code",
   "execution_count": 223,
   "metadata": {
    "collapsed": true
   },
   "outputs": [],
   "source": [
    "bins.sort()"
   ]
  },
  {
   "cell_type": "code",
   "execution_count": 224,
   "metadata": {
    "collapsed": false
   },
   "outputs": [
    {
     "name": "stderr",
     "output_type": "stream",
     "text": [
      "/Library/Python/2.7/site-packages/ipykernel/__main__.py:6: SettingWithCopyWarning: \n",
      "A value is trying to be set on a copy of a slice from a DataFrame\n",
      "\n",
      "See the caveats in the documentation: http://pandas.pydata.org/pandas-docs/stable/indexing.html#indexing-view-versus-copy\n"
     ]
    },
    {
     "name": "stdout",
     "output_type": "stream",
     "text": [
      "26\n",
      "36\n",
      "128\n",
      "147\n",
      "156\n",
      "218\n"
     ]
    }
   ],
   "source": [
    "for item in bins:\n",
    "    if np.random.binomial(1,.01)==1:\n",
    "        print item\n",
    "    \n",
    "    tmp = df[df.xbin==item]\n",
    "    tmp.sort_values(by=sort_vars,inplace=True)\n",
    "    tmp.reset_index(drop=True,inplace=True)\n",
    "\n",
    "    for i in range(len(tmp)):\n",
    "        im = Image.open(tmp.local_path.loc[i])\n",
    "        im = im.convert('RGBA')\n",
    "        im.thumbnail((thumb_side,thumb_side),Image.ANTIALIAS)\n",
    "        pos = r - i\n",
    "        xy = pol2cart(pos,bin2phi(item))\n",
    "        phi = bin2phideg(item)\n",
    "        im = im.rotate(phi,expand=1)\n",
    "        \n",
    "        xcoord = int(round((xy[0] + r) * thumb_side))\n",
    "        ycoord = int(round((r - xy[1]) * thumb_side)) #bc high in the image is low y\n",
    "        canvas.paste(im,(xcoord,ycoord),im) # tmp treated as a mask for itself"
   ]
  },
  {
   "cell_type": "code",
   "execution_count": 225,
   "metadata": {
    "collapsed": false
   },
   "outputs": [],
   "source": [
    "canvas.save(\"/Users/damoncrockett/Desktop/secondlook.png\")"
   ]
  }
 ],
 "metadata": {
  "kernelspec": {
   "display_name": "Python 2",
   "language": "python",
   "name": "python2"
  },
  "language_info": {
   "codemirror_mode": {
    "name": "ipython",
    "version": 2
   },
   "file_extension": ".py",
   "mimetype": "text/x-python",
   "name": "python",
   "nbconvert_exporter": "python",
   "pygments_lexer": "ipython2",
   "version": "2.7.10"
  }
 },
 "nbformat": 4,
 "nbformat_minor": 0
}
