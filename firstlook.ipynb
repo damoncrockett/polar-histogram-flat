{
 "cells": [
  {
   "cell_type": "code",
   "execution_count": 31,
   "metadata": {
    "collapsed": true
   },
   "outputs": [],
   "source": [
    "import pandas as pd\n",
    "import matplotlib.pyplot as plt\n",
    "%matplotlib inline\n",
    "import numpy as np\n",
    "import math"
   ]
  },
  {
   "cell_type": "markdown",
   "metadata": {},
   "source": [
    "### Data"
   ]
  },
  {
   "cell_type": "code",
   "execution_count": 32,
   "metadata": {
    "collapsed": true
   },
   "outputs": [],
   "source": [
    "sortvar = \"hue\""
   ]
  },
  {
   "cell_type": "code",
   "execution_count": 33,
   "metadata": {
    "collapsed": true
   },
   "outputs": [],
   "source": [
    "DIR = \"/Users/damoncrockett/Desktop/\""
   ]
  },
  {
   "cell_type": "code",
   "execution_count": 34,
   "metadata": {
    "collapsed": true
   },
   "outputs": [],
   "source": [
    "df = pd.read_csv(DIR+\"phew_hsv.csv\")"
   ]
  },
  {
   "cell_type": "markdown",
   "metadata": {},
   "source": [
    "### Point list in polar"
   ]
  },
  {
   "cell_type": "code",
   "execution_count": 35,
   "metadata": {
    "collapsed": true
   },
   "outputs": [],
   "source": [
    "n = len(df)"
   ]
  },
  {
   "cell_type": "code",
   "execution_count": 36,
   "metadata": {
    "collapsed": true
   },
   "outputs": [],
   "source": [
    "r = int(math.ceil(np.sqrt(n/np.pi)))"
   ]
  },
  {
   "cell_type": "code",
   "execution_count": 37,
   "metadata": {
    "collapsed": false
   },
   "outputs": [],
   "source": [
    "a = []\n",
    "for radius in range(1,r+1):\n",
    "    area = radius * radius * np.pi\n",
    "    a.append(area)"
   ]
  },
  {
   "cell_type": "code",
   "execution_count": 38,
   "metadata": {
    "collapsed": true
   },
   "outputs": [],
   "source": [
    "sizes = [int(round(a[i]-a[i-1])) for i in range(1,len(a))]"
   ]
  },
  {
   "cell_type": "code",
   "execution_count": 39,
   "metadata": {
    "collapsed": true
   },
   "outputs": [],
   "source": [
    "sizes.insert(0,int(round(a[0])))"
   ]
  },
  {
   "cell_type": "code",
   "execution_count": 40,
   "metadata": {
    "collapsed": true
   },
   "outputs": [],
   "source": [
    "radii = range(1,r+1)"
   ]
  },
  {
   "cell_type": "code",
   "execution_count": 41,
   "metadata": {
    "collapsed": true
   },
   "outputs": [],
   "source": [
    "all_rho = []\n",
    "all_phi = []\n",
    "for i in range(len(radii)):\n",
    "    radius = radii[i]\n",
    "    size = sizes[i]\n",
    "    radstep = 2*np.pi / size # circumference is 2pi radians\n",
    "    \n",
    "    phi_offset = np.random.choice(np.arange(-np.pi,np.pi,np.pi/1024)) # we'll use this to jitter our starting pt\n",
    "    phis_unjittered = np.arange(0,2*np.pi,radstep) # basic polar angle range\n",
    "    \n",
    "    phis = [phi+phi_offset for phi in phis_unjittered] # and of course offset needs to be applied to all    \n",
    "    phis_corrected = [] # here we will keep the [0,2pi] range despite the jitter\n",
    "    \n",
    "    for phi in phis:\n",
    "        if phi > 2*np.pi:\n",
    "            xtra = phi - 2*np.pi\n",
    "            phis_corrected.append(xtra)\n",
    "        elif phi < 0:\n",
    "            boosted = phi + 2*np.pi\n",
    "            phis_corrected.append(boosted)\n",
    "        else:\n",
    "            phis_corrected.append(phi)\n",
    "    \n",
    "    all_rho.append(np.repeat(radius,len(phis_corrected)))\n",
    "    all_phi.append([item for item in phis_corrected])\n",
    "all_rho = [item for sublist in all_rho for item in sublist]\n",
    "all_phi = [item for sublist in all_phi for item in sublist]"
   ]
  },
  {
   "cell_type": "code",
   "execution_count": 42,
   "metadata": {
    "collapsed": false
   },
   "outputs": [
    {
     "data": {
      "text/plain": [
       "869223"
      ]
     },
     "execution_count": 42,
     "metadata": {},
     "output_type": "execute_result"
    }
   ],
   "source": [
    "len(all_phi)"
   ]
  },
  {
   "cell_type": "code",
   "execution_count": 43,
   "metadata": {
    "collapsed": false
   },
   "outputs": [
    {
     "data": {
      "text/plain": [
       "869223"
      ]
     },
     "execution_count": 43,
     "metadata": {},
     "output_type": "execute_result"
    }
   ],
   "source": [
    "len(all_rho)"
   ]
  },
  {
   "cell_type": "code",
   "execution_count": 44,
   "metadata": {
    "collapsed": false
   },
   "outputs": [],
   "source": [
    "df.sort_values(by=sortvar,inplace=True)"
   ]
  },
  {
   "cell_type": "code",
   "execution_count": 45,
   "metadata": {
    "collapsed": false
   },
   "outputs": [],
   "source": [
    "tmp = pd.DataFrame({\"rho\":all_rho,\"phi\":all_phi})"
   ]
  },
  {
   "cell_type": "code",
   "execution_count": 46,
   "metadata": {
    "collapsed": false
   },
   "outputs": [],
   "source": [
    "tmp = tmp.iloc[:len(df),:] # we cut off extra positions we don't need bc our data is smaller than point set"
   ]
  },
  {
   "cell_type": "code",
   "execution_count": 47,
   "metadata": {
    "collapsed": false
   },
   "outputs": [
    {
     "data": {
      "text/plain": [
       "True"
      ]
     },
     "execution_count": 47,
     "metadata": {},
     "output_type": "execute_result"
    }
   ],
   "source": [
    "len(tmp)==len(df)"
   ]
  },
  {
   "cell_type": "markdown",
   "metadata": {},
   "source": [
    "### Create phi bins, attach to hue-sorted df, sort by phibin and sat, attach ordered rhos"
   ]
  },
  {
   "cell_type": "code",
   "execution_count": 48,
   "metadata": {
    "collapsed": true
   },
   "outputs": [],
   "source": [
    "phibins = int(round( len(df) / r )) # total pts divided by radius"
   ]
  },
  {
   "cell_type": "code",
   "execution_count": 49,
   "metadata": {
    "collapsed": false
   },
   "outputs": [],
   "source": [
    "tmp['phibin'] = pd.cut(tmp.phi,phibins,labels=False)"
   ]
  },
  {
   "cell_type": "code",
   "execution_count": 50,
   "metadata": {
    "collapsed": false
   },
   "outputs": [],
   "source": [
    "tmp.sort_values(by=['phibin','rho'],inplace=True)"
   ]
  },
  {
   "cell_type": "code",
   "execution_count": 51,
   "metadata": {
    "collapsed": false
   },
   "outputs": [
    {
     "data": {
      "text/html": [
       "<div>\n",
       "<table border=\"1\" class=\"dataframe\">\n",
       "  <thead>\n",
       "    <tr style=\"text-align: right;\">\n",
       "      <th></th>\n",
       "      <th>phi</th>\n",
       "      <th>rho</th>\n",
       "      <th>phibin</th>\n",
       "    </tr>\n",
       "  </thead>\n",
       "  <tbody>\n",
       "    <tr>\n",
       "      <th>152</th>\n",
       "      <td>0.000299</td>\n",
       "      <td>7</td>\n",
       "      <td>0</td>\n",
       "    </tr>\n",
       "    <tr>\n",
       "      <th>3495</th>\n",
       "      <td>0.002834</td>\n",
       "      <td>34</td>\n",
       "      <td>0</td>\n",
       "    </tr>\n",
       "    <tr>\n",
       "      <th>3822</th>\n",
       "      <td>0.000551</td>\n",
       "      <td>35</td>\n",
       "      <td>0</td>\n",
       "    </tr>\n",
       "    <tr>\n",
       "      <th>4397</th>\n",
       "      <td>0.000260</td>\n",
       "      <td>38</td>\n",
       "      <td>0</td>\n",
       "    </tr>\n",
       "    <tr>\n",
       "      <th>10360</th>\n",
       "      <td>0.000969</td>\n",
       "      <td>58</td>\n",
       "      <td>0</td>\n",
       "    </tr>\n",
       "  </tbody>\n",
       "</table>\n",
       "</div>"
      ],
      "text/plain": [
       "            phi  rho  phibin\n",
       "152    0.000299    7       0\n",
       "3495   0.002834   34       0\n",
       "3822   0.000551   35       0\n",
       "4397   0.000260   38       0\n",
       "10360  0.000969   58       0"
      ]
     },
     "execution_count": 51,
     "metadata": {},
     "output_type": "execute_result"
    }
   ],
   "source": [
    "tmp.head()"
   ]
  },
  {
   "cell_type": "code",
   "execution_count": 52,
   "metadata": {
    "collapsed": false
   },
   "outputs": [],
   "source": [
    "df['phibin'] = list(tmp.phibin)\n",
    "df['phi'] = list(tmp.phi)"
   ]
  },
  {
   "cell_type": "code",
   "execution_count": 53,
   "metadata": {
    "collapsed": false
   },
   "outputs": [],
   "source": [
    "df.sort_values(by=['phibin','sat'],ascending=[True,False],inplace=True) # we want most sat in center"
   ]
  },
  {
   "cell_type": "code",
   "execution_count": 54,
   "metadata": {
    "collapsed": false
   },
   "outputs": [],
   "source": [
    "df['rho'] = list(tmp.rho)"
   ]
  },
  {
   "cell_type": "markdown",
   "metadata": {},
   "source": [
    "### Plot"
   ]
  },
  {
   "cell_type": "code",
   "execution_count": 63,
   "metadata": {
    "collapsed": true
   },
   "outputs": [],
   "source": [
    "from PIL import Image"
   ]
  },
  {
   "cell_type": "code",
   "execution_count": 64,
   "metadata": {
    "collapsed": true
   },
   "outputs": [],
   "source": [
    "thumb_side = 16"
   ]
  },
  {
   "cell_type": "code",
   "execution_count": 65,
   "metadata": {
    "collapsed": false
   },
   "outputs": [
    {
     "name": "stdout",
     "output_type": "stream",
     "text": [
      "16848 16848\n"
     ]
    }
   ],
   "source": [
    "px_w = (r * 2 * thumb_side) + thumb_side\n",
    "px_h = px_w\n",
    "print px_w, px_h"
   ]
  },
  {
   "cell_type": "code",
   "execution_count": 66,
   "metadata": {
    "collapsed": false
   },
   "outputs": [],
   "source": [
    "canvas = Image.new('RGB',(px_w,px_h),'hsl(180,0%,100%)') # white canvas"
   ]
  },
  {
   "cell_type": "markdown",
   "metadata": {},
   "source": [
    "#### I find that the conversion to xy coords, the translation to image positions, and accounting for img size is best saved for right before plotting, to keep things straight"
   ]
  },
  {
   "cell_type": "code",
   "execution_count": 67,
   "metadata": {
    "collapsed": true
   },
   "outputs": [],
   "source": [
    "def pol2cart(rho, phi):\n",
    "    x = rho * np.cos(phi)\n",
    "    y = rho * np.sin(phi)\n",
    "    return(x, y)"
   ]
  },
  {
   "cell_type": "code",
   "execution_count": 68,
   "metadata": {
    "collapsed": false
   },
   "outputs": [
    {
     "name": "stdout",
     "output_type": "stream",
     "text": [
      "385\n",
      "414\n",
      "449\n",
      "479\n",
      "480\n",
      "576\n",
      "616\n",
      "766\n",
      "1130\n",
      "1160\n",
      "1398\n",
      "1420\n",
      "1475\n",
      "1507\n",
      "1600\n",
      "1644\n",
      "1647\n"
     ]
    }
   ],
   "source": [
    "for i in df.index:\n",
    "    binnum = df.phibin.loc[i]\n",
    "    if np.random.binomial(1,0.00001)==1:\n",
    "        print binnum\n",
    "    \n",
    "    im = Image.open(df.local_path.loc[i])\n",
    "    im = im.convert('RGBA')\n",
    "    im.thumbnail((thumb_side,thumb_side),Image.ANTIALIAS)\n",
    "    \n",
    "    rho = df.rho.loc[i]\n",
    "    phi = df.phi.loc[i]    \n",
    "    im = im.rotate(phi,expand=1)\n",
    "\n",
    "    xgrid = pol2cart(rho,phi)[0]\n",
    "    ygrid = pol2cart(rho,phi)[1]\n",
    "    \n",
    "    xcoord = int(round( (xgrid+r) * thumb_side) ) # r here is doing simple spatial translation\n",
    "    ycoord = int(round( (r-ygrid) * thumb_side) ) #bc high in the image is low y\n",
    "    canvas.paste(im,(xcoord,ycoord),im) # tmp treated as a mask for itself"
   ]
  },
  {
   "cell_type": "code",
   "execution_count": 69,
   "metadata": {
    "collapsed": true
   },
   "outputs": [],
   "source": [
    "canvas.save(DIR+\"firstlook-flat.png\")"
   ]
  },
  {
   "cell_type": "code",
   "execution_count": null,
   "metadata": {
    "collapsed": true
   },
   "outputs": [],
   "source": []
  }
 ],
 "metadata": {
  "kernelspec": {
   "display_name": "Python 2",
   "language": "python",
   "name": "python2"
  },
  "language_info": {
   "codemirror_mode": {
    "name": "ipython",
    "version": 2
   },
   "file_extension": ".py",
   "mimetype": "text/x-python",
   "name": "python",
   "nbconvert_exporter": "python",
   "pygments_lexer": "ipython2",
   "version": "2.7.10"
  }
 },
 "nbformat": 4,
 "nbformat_minor": 0
}
